{
 "cells": [
  {
   "cell_type": "code",
   "execution_count": 2,
   "id": "3715065b",
   "metadata": {},
   "outputs": [],
   "source": [
    "import pandas as pd\n",
    "import numpy as np\n",
    "import matplotlib.pyplot as plt\n",
    "from math import sqrt\n",
    "import sklearn\n",
    "from sklearn.model_selection import train_test_split\n",
    "from sklearn.naive_bayes import GaussianNB\n",
    "from sklearn.metrics import accuracy_score\n",
    "import matplotlib.pyplot as plt\n",
    "import seaborn as sns\n",
    "import math\n",
    "from sklearn import metrics\n",
    "import scipy.stats as st\n",
    "%matplotlib inline\n",
    "from sklearn.tree import DecisionTreeClassifier"
   ]
  },
  {
   "cell_type": "code",
   "execution_count": null,
   "id": "bc3a7d14",
   "metadata": {},
   "outputs": [],
   "source": [
    "dataset=pd.read_csv(\"C:/Users/yazhini/Downloads/Placement_Data_Full_Class.csv\")\n",
    "dataset.head(100)"
   ]
  },
  {
   "cell_type": "code",
   "execution_count": null,
   "id": "4913c71b",
   "metadata": {},
   "outputs": [],
   "source": [
    "dataset1=pd.read_csv(\"C:/Users/yazhini/Downloads/Placement_Data_Full_Class.csv\")\n",
    "dataset1.head(10)"
   ]
  },
  {
   "cell_type": "code",
   "execution_count": null,
   "id": "28cf2e8b",
   "metadata": {},
   "outputs": [],
   "source": [
    "dataset1.sort_values(\"ssc_p\",inplace=TRUE)"
   ]
  },
  {
   "cell_type": "code",
   "execution_count": 11,
   "id": "a7b950ba",
   "metadata": {},
   "outputs": [
    {
     "data": {
      "text/html": [
       "<div>\n",
       "<style scoped>\n",
       "    .dataframe tbody tr th:only-of-type {\n",
       "        vertical-align: middle;\n",
       "    }\n",
       "\n",
       "    .dataframe tbody tr th {\n",
       "        vertical-align: top;\n",
       "    }\n",
       "\n",
       "    .dataframe thead th {\n",
       "        text-align: right;\n",
       "    }\n",
       "</style>\n",
       "<table border=\"1\" class=\"dataframe\">\n",
       "  <thead>\n",
       "    <tr style=\"text-align: right;\">\n",
       "      <th></th>\n",
       "      <th>sl_no</th>\n",
       "      <th>gender</th>\n",
       "      <th>ssc_p</th>\n",
       "      <th>hsc_p</th>\n",
       "      <th>hsc_s</th>\n",
       "      <th>degree_p</th>\n",
       "      <th>etest_p</th>\n",
       "      <th>status</th>\n",
       "      <th>salary</th>\n",
       "    </tr>\n",
       "  </thead>\n",
       "  <tbody>\n",
       "    <tr>\n",
       "      <th>0</th>\n",
       "      <td>1</td>\n",
       "      <td>M</td>\n",
       "      <td>67.00</td>\n",
       "      <td>91.00</td>\n",
       "      <td>Commerce</td>\n",
       "      <td>58.00</td>\n",
       "      <td>55.0</td>\n",
       "      <td>1</td>\n",
       "      <td>270000.0</td>\n",
       "    </tr>\n",
       "    <tr>\n",
       "      <th>1</th>\n",
       "      <td>2</td>\n",
       "      <td>M</td>\n",
       "      <td>79.33</td>\n",
       "      <td>78.33</td>\n",
       "      <td>Science</td>\n",
       "      <td>77.48</td>\n",
       "      <td>86.5</td>\n",
       "      <td>1</td>\n",
       "      <td>200000.0</td>\n",
       "    </tr>\n",
       "    <tr>\n",
       "      <th>2</th>\n",
       "      <td>3</td>\n",
       "      <td>M</td>\n",
       "      <td>65.00</td>\n",
       "      <td>68.00</td>\n",
       "      <td>Arts</td>\n",
       "      <td>64.00</td>\n",
       "      <td>75.0</td>\n",
       "      <td>1</td>\n",
       "      <td>250000.0</td>\n",
       "    </tr>\n",
       "    <tr>\n",
       "      <th>3</th>\n",
       "      <td>4</td>\n",
       "      <td>M</td>\n",
       "      <td>56.00</td>\n",
       "      <td>52.00</td>\n",
       "      <td>Science</td>\n",
       "      <td>52.00</td>\n",
       "      <td>66.0</td>\n",
       "      <td>0</td>\n",
       "      <td>NaN</td>\n",
       "    </tr>\n",
       "    <tr>\n",
       "      <th>4</th>\n",
       "      <td>5</td>\n",
       "      <td>M</td>\n",
       "      <td>85.80</td>\n",
       "      <td>73.60</td>\n",
       "      <td>Commerce</td>\n",
       "      <td>73.30</td>\n",
       "      <td>96.8</td>\n",
       "      <td>1</td>\n",
       "      <td>425000.0</td>\n",
       "    </tr>\n",
       "    <tr>\n",
       "      <th>...</th>\n",
       "      <td>...</td>\n",
       "      <td>...</td>\n",
       "      <td>...</td>\n",
       "      <td>...</td>\n",
       "      <td>...</td>\n",
       "      <td>...</td>\n",
       "      <td>...</td>\n",
       "      <td>...</td>\n",
       "      <td>...</td>\n",
       "    </tr>\n",
       "    <tr>\n",
       "      <th>210</th>\n",
       "      <td>211</td>\n",
       "      <td>M</td>\n",
       "      <td>80.60</td>\n",
       "      <td>82.00</td>\n",
       "      <td>Commerce</td>\n",
       "      <td>77.60</td>\n",
       "      <td>91.0</td>\n",
       "      <td>1</td>\n",
       "      <td>400000.0</td>\n",
       "    </tr>\n",
       "    <tr>\n",
       "      <th>211</th>\n",
       "      <td>212</td>\n",
       "      <td>M</td>\n",
       "      <td>58.00</td>\n",
       "      <td>60.00</td>\n",
       "      <td>Science</td>\n",
       "      <td>72.00</td>\n",
       "      <td>74.0</td>\n",
       "      <td>1</td>\n",
       "      <td>275000.0</td>\n",
       "    </tr>\n",
       "    <tr>\n",
       "      <th>212</th>\n",
       "      <td>213</td>\n",
       "      <td>M</td>\n",
       "      <td>67.00</td>\n",
       "      <td>67.00</td>\n",
       "      <td>Commerce</td>\n",
       "      <td>73.00</td>\n",
       "      <td>59.0</td>\n",
       "      <td>1</td>\n",
       "      <td>295000.0</td>\n",
       "    </tr>\n",
       "    <tr>\n",
       "      <th>213</th>\n",
       "      <td>214</td>\n",
       "      <td>F</td>\n",
       "      <td>74.00</td>\n",
       "      <td>66.00</td>\n",
       "      <td>Commerce</td>\n",
       "      <td>58.00</td>\n",
       "      <td>70.0</td>\n",
       "      <td>1</td>\n",
       "      <td>204000.0</td>\n",
       "    </tr>\n",
       "    <tr>\n",
       "      <th>214</th>\n",
       "      <td>215</td>\n",
       "      <td>M</td>\n",
       "      <td>62.00</td>\n",
       "      <td>58.00</td>\n",
       "      <td>Science</td>\n",
       "      <td>53.00</td>\n",
       "      <td>89.0</td>\n",
       "      <td>0</td>\n",
       "      <td>NaN</td>\n",
       "    </tr>\n",
       "  </tbody>\n",
       "</table>\n",
       "<p>215 rows × 9 columns</p>\n",
       "</div>"
      ],
      "text/plain": [
       "     sl_no gender  ssc_p  hsc_p     hsc_s  degree_p  etest_p  status    salary\n",
       "0        1      M  67.00  91.00  Commerce     58.00     55.0       1  270000.0\n",
       "1        2      M  79.33  78.33   Science     77.48     86.5       1  200000.0\n",
       "2        3      M  65.00  68.00      Arts     64.00     75.0       1  250000.0\n",
       "3        4      M  56.00  52.00   Science     52.00     66.0       0       NaN\n",
       "4        5      M  85.80  73.60  Commerce     73.30     96.8       1  425000.0\n",
       "..     ...    ...    ...    ...       ...       ...      ...     ...       ...\n",
       "210    211      M  80.60  82.00  Commerce     77.60     91.0       1  400000.0\n",
       "211    212      M  58.00  60.00   Science     72.00     74.0       1  275000.0\n",
       "212    213      M  67.00  67.00  Commerce     73.00     59.0       1  295000.0\n",
       "213    214      F  74.00  66.00  Commerce     58.00     70.0       1  204000.0\n",
       "214    215      M  62.00  58.00   Science     53.00     89.0       0       NaN\n",
       "\n",
       "[215 rows x 9 columns]"
      ]
     },
     "execution_count": 11,
     "metadata": {},
     "output_type": "execute_result"
    }
   ],
   "source": [
    "ds.sort_index()"
   ]
  },
  {
   "cell_type": "code",
   "execution_count": null,
   "id": "24f7a8f0",
   "metadata": {},
   "outputs": [],
   "source": []
  },
  {
   "cell_type": "code",
   "execution_count": 40,
   "id": "12742562",
   "metadata": {},
   "outputs": [
    {
     "data": {
      "image/png": "[encoded data removed]",
      "text/plain": [
       "<Figure size 432x288 with 1 Axes>"
      ]
     },
     "metadata": {
      "needs_background": "light"
     },
     "output_type": "display_data"
    }
   ],
   "source": [
    "x = [40, 41, 43, 44, 45, 46, 47, 47, 48, 49]\n",
    "y = [1, 2, 3, 4, 5, 6, 7, 8, 9, 10]\n",
    "plt.bar(x, y)\n",
    "plt.show()"
   ]
  },
  {
   "cell_type": "code",
   "execution_count": 46,
   "id": "670ccb36",
   "metadata": {},
   "outputs": [
    {
     "data": {
      "image/png": "[encoded data removed]",
      "text/plain": [
       "<Figure size 432x288 with 1 Axes>"
      ]
     },
     "metadata": {
      "needs_background": "light"
     },
     "output_type": "display_data"
    }
   ],
   "source": [
    "x = [40, 41, 43, 44, 45, 46, 47, 47, 48, 49]\n",
    "y = [1, 2, 3, 4, 5, 6, 7, 8, 9, 10]\n",
    "plt.scatter(x, y)\n",
    "plt.show()"
   ]
  },
  {
   "cell_type": "code",
   "execution_count": 50,
   "id": "4007273a",
   "metadata": {},
   "outputs": [
    {
     "data": {
      "image/png": "[encoded data removed]",
      "text/plain": [
       "<Figure size 432x288 with 1 Axes>"
      ]
     },
     "metadata": {
      "needs_background": "light"
     },
     "output_type": "display_data"
    }
   ],
   "source": [
    "x = [67,79,65,56,85,55,46,82,73,58]\n",
    "y = [1, 2, 3, 4, 5, 6, 7, 8, 9, 10]\n",
    "plt.scatter(x, y)\n",
    "plt.show()"
   ]
  },
  {
   "cell_type": "code",
   "execution_count": 51,
   "id": "0ba2c2b1",
   "metadata": {},
   "outputs": [
    {
     "data": {
      "image/png": "[encoded data removed]",
      "text/plain": [
       "<Figure size 432x288 with 1 Axes>"
      ]
     },
     "metadata": {
      "needs_background": "light"
     },
     "output_type": "display_data"
    }
   ],
   "source": [
    "x = [67,79,65,56,85,55,46,82,73,58]\n",
    "y = [1, 2, 3, 4, 5, 6, 7, 8, 9, 10]\n",
    "plt.bar(x, y)\n",
    "plt.show()"
   ]
  },
  {
   "cell_type": "code",
   "execution_count": 52,
   "id": "089e754a",
   "metadata": {},
   "outputs": [
    {
     "name": "stdout",
     "output_type": "stream",
     "text": [
      "ssc percentage\n",
      "[67.   79.33 65.   56.   85.8  55.   46.   82.   73.   58.   58.   69.6\n",
      " 47.   77.   62.   65.   63.   55.   63.   60.   62.   79.   69.8  77.4\n",
      " 76.5  52.58 71.   63.   76.76 62.   64.   67.   61.   87.   62.   69.\n",
      " 51.   79.   73.   81.   78.   74.   49.   87.   77.   76.   70.89 63.\n",
      " 63.   50.   75.2  54.4  40.89 80.   74.   60.4  63.   68.   74.   52.6\n",
      " 74.   84.2  86.5  61.   80.   54.   83.   80.92 69.7  73.   82.   75.\n",
      " 84.86 64.6  56.6  59.   66.5  64.   84.   69.   69.   81.7  63.   84.\n",
      " 70.   83.84 62.   59.6  66.   84.   85.   52.   60.23 52.   58.   73.\n",
      " 76.   70.5  69.   54.   45.   63.   77.   73.   69.   59.   61.08 82.\n",
      " 61.   52.   69.5  51.   58.   73.96 65.   73.   68.2  77.   76.   60.8\n",
      " 58.   64.   66.5  74.   67.   84.   79.   72.   80.4  76.7  62.   74.9\n",
      " 67.   73.   77.44 72.   47.   67.   82.   77.   65.   66.   85.   77.67\n",
      " 52.   89.4  62.   70.   77.   44.   71.   65.   75.4  49.   53.   51.57\n",
      " 84.2  66.5  67.   52.   87.   55.6  74.2  63.   67.16 63.3  62.   67.9\n",
      " 48.   59.96 63.4  80.   73.   52.   73.24 63.   59.   73.   68.   77.8\n",
      " 65.   62.   52.   65.   56.28 88.   52.   78.5  61.8  54.   64.   67.\n",
      " 65.2  60.   52.   66.   72.   83.96 67.   69.   69.   54.2  70.   55.68\n",
      " 74.   61.   41.   83.33 43.   62.   80.6  58.   67.   74.   62.  ]\n",
      "hsc percentage\n",
      "[91.   78.33 68.   52.   73.6  49.8  49.2  64.   79.   70.   61.   68.4\n",
      " 55.   87.   47.   75.   66.2  67.   66.   67.   65.   76.   60.8  60.\n",
      " 97.7  54.6  79.   67.   76.5  67.   73.5  53.   81.   65.   51.   78.\n",
      " 44.   76.   58.   68.   77.   63.16 39.   87.   73.   64.   71.98 60.\n",
      " 62.   37.   73.2  61.12 45.83 70.   60.   66.6  71.4  76.   62.   65.58\n",
      " 70.   73.4  64.2  70.   73.   47.   74.   78.5  47.   73.   61.   70.29\n",
      " 67.   83.83 64.8  62.   70.4  80.   90.9  62.   62.   63.   67.   79.\n",
      " 63.   89.83 63.   51.   62.   75.   90.   57.   69.   62.   62.   78.\n",
      " 70.   62.5  73.   82.   57.   72.   61.   78.   63.   64.   50.   90.\n",
      " 82.   63.   70.   54.   61.   79.   68.   63.   72.8  75.   80.   68.4\n",
      " 40.   67.   66.8  59.   71.   73.   61.   60.   73.4  89.7  65.   57.\n",
      " 68.   64.   92.   56.   59.   63.   64.   70.   64.8  64.   60.   64.89\n",
      " 50.   65.66 63.   74.   86.   58.   58.66 65.   60.5  59.   63.   74.66\n",
      " 69.4  62.5  63.   49.   74.   51.   87.6  67.   72.5  78.33 62.   62.\n",
      " 51.   42.16 67.2  80.   58.   52.   50.83 62.   60.   97.   56.   64.\n",
      " 71.5  60.33 65.   77.   62.83 72.   64.   65.5  47.   77.6  70.2  61.\n",
      " 61.4  63.   55.   76.   63.   53.   70.   65.   60.   63.   63.   61.33\n",
      " 73.   62.   42.   78.   60.   72.   82.   60.   67.   66.   58.  ]\n"
     ]
    }
   ],
   "source": [
    "print('ssc percentage')\n",
    "print(dataset.ssc_p.values)\n",
    "print('hsc percentage')\n",
    "print(dataset.hsc_p.values)"
   ]
  },
  {
   "cell_type": "code",
   "execution_count": 62,
   "id": "cc227307",
   "metadata": {},
   "outputs": [
    {
     "name": "stdout",
     "output_type": "stream",
     "text": [
      "45\n",
      "[270000. 200000. 250000.     nan 425000. 252000. 231000. 260000. 218000.\n",
      " 300000. 236000. 265000. 393000. 360000. 240000. 350000. 278000. 320000.\n",
      " 411000. 287000. 204000. 450000. 216000. 220000. 268000. 275000. 336000.\n",
      " 230000. 500000. 400000. 210000. 420000. 380000. 280000. 276000. 940000.\n",
      " 225000. 233000. 690000. 340000. 255000. 285000. 290000. 650000. 264000.\n",
      " 295000.]\n",
      "940000.0\n",
      "300000.0    22\n",
      "250000.0    18\n",
      "240000.0    15\n",
      "260000.0     7\n",
      "265000.0     6\n",
      "200000.0     6\n",
      "360000.0     6\n",
      "220000.0     5\n",
      "275000.0     5\n",
      "210000.0     4\n",
      "400000.0     4\n",
      "270000.0     4\n",
      "216000.0     3\n",
      "500000.0     3\n",
      "350000.0     3\n",
      "204000.0     2\n",
      "276000.0     2\n",
      "280000.0     2\n",
      "236000.0     2\n",
      "230000.0     2\n",
      "252000.0     2\n",
      "218000.0     2\n",
      "290000.0     1\n",
      "940000.0     1\n",
      "425000.0     1\n",
      "268000.0     1\n",
      "278000.0     1\n",
      "450000.0     1\n",
      "690000.0     1\n",
      "255000.0     1\n",
      "285000.0     1\n",
      "295000.0     1\n",
      "340000.0     1\n",
      "420000.0     1\n",
      "411000.0     1\n",
      "336000.0     1\n",
      "650000.0     1\n",
      "264000.0     1\n",
      "320000.0     1\n",
      "380000.0     1\n",
      "393000.0     1\n",
      "287000.0     1\n",
      "225000.0     1\n",
      "233000.0     1\n",
      "231000.0     1\n",
      "Name: salary, dtype: int64\n"
     ]
    }
   ],
   "source": [
    "print(dataset.salary.nunique())\n",
    "print(dataset.salary.unique())\n",
    "print(dataset.salary.max())\n",
    "print(dataset.salary.value_counts())"
   ]
  },
  {
   "cell_type": "code",
   "execution_count": 117,
   "id": "44951360",
   "metadata": {},
   "outputs": [
    {
     "data": {
      "text/html": [
       "<div>\n",
       "<style scoped>\n",
       "    .dataframe tbody tr th:only-of-type {\n",
       "        vertical-align: middle;\n",
       "    }\n",
       "\n",
       "    .dataframe tbody tr th {\n",
       "        vertical-align: top;\n",
       "    }\n",
       "\n",
       "    .dataframe thead th {\n",
       "        text-align: right;\n",
       "    }\n",
       "</style>\n",
       "<table border=\"1\" class=\"dataframe\">\n",
       "  <thead>\n",
       "    <tr style=\"text-align: right;\">\n",
       "      <th></th>\n",
       "      <th>ssc_p</th>\n",
       "      <th>hsc_p</th>\n",
       "      <th>status</th>\n",
       "    </tr>\n",
       "  </thead>\n",
       "  <tbody>\n",
       "    <tr>\n",
       "      <th>0</th>\n",
       "      <td>67.00</td>\n",
       "      <td>91.00</td>\n",
       "      <td>1</td>\n",
       "    </tr>\n",
       "    <tr>\n",
       "      <th>1</th>\n",
       "      <td>79.33</td>\n",
       "      <td>78.33</td>\n",
       "      <td>1</td>\n",
       "    </tr>\n",
       "    <tr>\n",
       "      <th>2</th>\n",
       "      <td>65.00</td>\n",
       "      <td>68.00</td>\n",
       "      <td>1</td>\n",
       "    </tr>\n",
       "    <tr>\n",
       "      <th>3</th>\n",
       "      <td>56.00</td>\n",
       "      <td>52.00</td>\n",
       "      <td>0</td>\n",
       "    </tr>\n",
       "    <tr>\n",
       "      <th>4</th>\n",
       "      <td>85.80</td>\n",
       "      <td>73.60</td>\n",
       "      <td>1</td>\n",
       "    </tr>\n",
       "    <tr>\n",
       "      <th>...</th>\n",
       "      <td>...</td>\n",
       "      <td>...</td>\n",
       "      <td>...</td>\n",
       "    </tr>\n",
       "    <tr>\n",
       "      <th>95</th>\n",
       "      <td>73.00</td>\n",
       "      <td>78.00</td>\n",
       "      <td>1</td>\n",
       "    </tr>\n",
       "    <tr>\n",
       "      <th>96</th>\n",
       "      <td>76.00</td>\n",
       "      <td>70.00</td>\n",
       "      <td>1</td>\n",
       "    </tr>\n",
       "    <tr>\n",
       "      <th>97</th>\n",
       "      <td>70.50</td>\n",
       "      <td>62.50</td>\n",
       "      <td>0</td>\n",
       "    </tr>\n",
       "    <tr>\n",
       "      <th>98</th>\n",
       "      <td>69.00</td>\n",
       "      <td>73.00</td>\n",
       "      <td>1</td>\n",
       "    </tr>\n",
       "    <tr>\n",
       "      <th>99</th>\n",
       "      <td>54.00</td>\n",
       "      <td>82.00</td>\n",
       "      <td>0</td>\n",
       "    </tr>\n",
       "  </tbody>\n",
       "</table>\n",
       "<p>100 rows × 3 columns</p>\n",
       "</div>"
      ],
      "text/plain": [
       "    ssc_p  hsc_p  status\n",
       "0   67.00  91.00       1\n",
       "1   79.33  78.33       1\n",
       "2   65.00  68.00       1\n",
       "3   56.00  52.00       0\n",
       "4   85.80  73.60       1\n",
       "..    ...    ...     ...\n",
       "95  73.00  78.00       1\n",
       "96  76.00  70.00       1\n",
       "97  70.50  62.50       0\n",
       "98  69.00  73.00       1\n",
       "99  54.00  82.00       0\n",
       "\n",
       "[100 rows x 3 columns]"
      ]
     },
     "execution_count": 117,
     "metadata": {},
     "output_type": "execute_result"
    }
   ],
   "source": [
    "dataset3=pd.read_csv(\"C:/Users/yazhini/Documents/naive recruitment.csv\")\n",
    "dataset3.head(100)"
   ]
  },
  {
   "cell_type": "code",
   "execution_count": 118,
   "id": "d294950c",
   "metadata": {},
   "outputs": [],
   "source": [
    "x = dataset3.drop('status',axis=1)\n",
    "y = dataset3['status']\n",
    "x_train, x_test, y_train,y_test = train_test_split(x,y,test_size=0.50,random_state=42)"
   ]
  },
  {
   "cell_type": "code",
   "execution_count": 119,
   "id": "e6bab3ef",
   "metadata": {},
   "outputs": [
    {
     "data": {
      "text/plain": [
       "GaussianNB()"
      ]
     },
     "execution_count": 119,
     "metadata": {},
     "output_type": "execute_result"
    }
   ],
   "source": [
    "model = GaussianNB()\n",
    "model.fit(x_train,y_train)"
   ]
  },
  {
   "cell_type": "code",
   "execution_count": 120,
   "id": "9c339f22",
   "metadata": {},
   "outputs": [
    {
     "data": {
      "text/plain": [
       "array([1, 1, 1, 0, 1, 0, 0, 1, 1, 1, 1, 1, 0, 1, 1, 1, 1, 1, 0, 1, 1, 1,\n",
       "       1, 0, 1, 1, 1, 1, 1, 1, 1, 1, 0, 1, 1, 1, 0, 1, 1, 1, 1, 1, 1, 0,\n",
       "       1, 1, 1, 1, 1, 1, 1, 1, 1, 1, 0, 1, 1, 1, 1, 1, 1, 0, 0, 1, 0, 1,\n",
       "       1, 0, 0, 0, 1, 0, 1, 1, 0, 0, 1, 1, 0, 1, 0, 1, 1, 1, 1, 1, 1, 1,\n",
       "       1, 1, 1, 1, 1, 1, 1, 1, 1, 0, 0, 1, 1, 1, 1, 1, 1, 1, 1, 1],\n",
       "      dtype=int64)"
      ]
     },
     "execution_count": 120,
     "metadata": {},
     "output_type": "execute_result"
    }
   ],
   "source": [
    "y_pred = model.predict(x_test)\n",
    "y_pred"
   ]
  },
  {
   "cell_type": "code",
   "execution_count": 121,
   "id": "e0422c10",
   "metadata": {},
   "outputs": [
    {
     "name": "stdout",
     "output_type": "stream",
     "text": [
      "Accuracy: 0.8148148148148148\n"
     ]
    }
   ],
   "source": [
    "print(\"Accuracy:\",metrics.accuracy_score(y_test, y_pred))"
   ]
  },
  {
   "cell_type": "code",
   "execution_count": 122,
   "id": "df33f893",
   "metadata": {},
   "outputs": [
    {
     "data": {
      "text/plain": [
       "81.48148148148148"
      ]
     },
     "execution_count": 122,
     "metadata": {},
     "output_type": "execute_result"
    }
   ],
   "source": [
    "accuracy = accuracy_score(y_test,y_pred)*100\n",
    "accuracy"
   ]
  },
  {
   "cell_type": "code",
   "execution_count": 123,
   "id": "c322e09c",
   "metadata": {},
   "outputs": [
    {
     "data": {
      "text/html": [
       "<div>\n",
       "<style scoped>\n",
       "    .dataframe tbody tr th:only-of-type {\n",
       "        vertical-align: middle;\n",
       "    }\n",
       "\n",
       "    .dataframe tbody tr th {\n",
       "        vertical-align: top;\n",
       "    }\n",
       "\n",
       "    .dataframe thead th {\n",
       "        text-align: right;\n",
       "    }\n",
       "</style>\n",
       "<table border=\"1\" class=\"dataframe\">\n",
       "  <thead>\n",
       "    <tr style=\"text-align: right;\">\n",
       "      <th></th>\n",
       "      <th>ssc_p</th>\n",
       "      <th>hsc_p</th>\n",
       "      <th>status</th>\n",
       "    </tr>\n",
       "  </thead>\n",
       "  <tbody>\n",
       "    <tr>\n",
       "      <th>0</th>\n",
       "      <td>67.00</td>\n",
       "      <td>91.00</td>\n",
       "      <td>1</td>\n",
       "    </tr>\n",
       "    <tr>\n",
       "      <th>1</th>\n",
       "      <td>79.33</td>\n",
       "      <td>78.33</td>\n",
       "      <td>1</td>\n",
       "    </tr>\n",
       "    <tr>\n",
       "      <th>2</th>\n",
       "      <td>65.00</td>\n",
       "      <td>68.00</td>\n",
       "      <td>1</td>\n",
       "    </tr>\n",
       "    <tr>\n",
       "      <th>3</th>\n",
       "      <td>56.00</td>\n",
       "      <td>52.00</td>\n",
       "      <td>0</td>\n",
       "    </tr>\n",
       "    <tr>\n",
       "      <th>4</th>\n",
       "      <td>85.80</td>\n",
       "      <td>73.60</td>\n",
       "      <td>1</td>\n",
       "    </tr>\n",
       "    <tr>\n",
       "      <th>...</th>\n",
       "      <td>...</td>\n",
       "      <td>...</td>\n",
       "      <td>...</td>\n",
       "    </tr>\n",
       "    <tr>\n",
       "      <th>95</th>\n",
       "      <td>73.00</td>\n",
       "      <td>78.00</td>\n",
       "      <td>1</td>\n",
       "    </tr>\n",
       "    <tr>\n",
       "      <th>96</th>\n",
       "      <td>76.00</td>\n",
       "      <td>70.00</td>\n",
       "      <td>1</td>\n",
       "    </tr>\n",
       "    <tr>\n",
       "      <th>97</th>\n",
       "      <td>70.50</td>\n",
       "      <td>62.50</td>\n",
       "      <td>0</td>\n",
       "    </tr>\n",
       "    <tr>\n",
       "      <th>98</th>\n",
       "      <td>69.00</td>\n",
       "      <td>73.00</td>\n",
       "      <td>1</td>\n",
       "    </tr>\n",
       "    <tr>\n",
       "      <th>99</th>\n",
       "      <td>54.00</td>\n",
       "      <td>82.00</td>\n",
       "      <td>0</td>\n",
       "    </tr>\n",
       "  </tbody>\n",
       "</table>\n",
       "<p>100 rows × 3 columns</p>\n",
       "</div>"
      ],
      "text/plain": [
       "    ssc_p  hsc_p  status\n",
       "0   67.00  91.00       1\n",
       "1   79.33  78.33       1\n",
       "2   65.00  68.00       1\n",
       "3   56.00  52.00       0\n",
       "4   85.80  73.60       1\n",
       "..    ...    ...     ...\n",
       "95  73.00  78.00       1\n",
       "96  76.00  70.00       1\n",
       "97  70.50  62.50       0\n",
       "98  69.00  73.00       1\n",
       "99  54.00  82.00       0\n",
       "\n",
       "[100 rows x 3 columns]"
      ]
     },
     "execution_count": 123,
     "metadata": {},
     "output_type": "execute_result"
    }
   ],
   "source": [
    "dataset4=pd.read_csv(\"C:/Users/yazhini/Documents/naive recruitment.csv\")\n",
    "dataset4.head(100)"
   ]
  },
  {
   "cell_type": "code",
   "execution_count": 138,
   "id": "4674028a",
   "metadata": {},
   "outputs": [],
   "source": [
    "train_features = dataset4.iloc[:100,:-1]\n",
    "test_features = dataset4.iloc[100:,:-1]\n",
    "train_targets = dataset4.iloc[:100,-1]\n",
    "test_targets = dataset4.iloc[100:,-1]"
   ]
  },
  {
   "cell_type": "code",
   "execution_count": 139,
   "id": "fe39832c",
   "metadata": {},
   "outputs": [],
   "source": [
    "tree = DecisionTreeClassifier(criterion = 'entropy').fit(train_features,train_targets)"
   ]
  },
  {
   "cell_type": "code",
   "execution_count": 140,
   "id": "8635d756",
   "metadata": {},
   "outputs": [],
   "source": [
    "prediction = tree.predict(test_features)"
   ]
  },
  {
   "cell_type": "code",
   "execution_count": 141,
   "id": "e8a05912",
   "metadata": {},
   "outputs": [
    {
     "name": "stdout",
     "output_type": "stream",
     "text": [
      "The prediction accuracy is:  78.26086956521739 %\n"
     ]
    }
   ],
   "source": [
    "print(\"The prediction accuracy is: \",tree.score(test_features,test_targets)*100,\"%\")"
   ]
  },
  {
   "cell_type": "code",
   "execution_count": null,
   "id": "8e78333f",
   "metadata": {},
   "outputs": [],
   "source": []
  }
 ],
 "metadata": {
  "kernelspec": {
   "display_name": "Python 3",
   "language": "python",
   "name": "python3"
  },
  "language_info": {
   "codemirror_mode": {
    "name": "ipython",
    "version": 3
   },
   "file_extension": ".py",
   "mimetype": "text/x-python",
   "name": "python",
   "nbconvert_exporter": "python",
   "pygments_lexer": "ipython3",
   "version": "3.9.2"
  }
 },
 "nbformat": 4,
 "nbformat_minor": 5
}
